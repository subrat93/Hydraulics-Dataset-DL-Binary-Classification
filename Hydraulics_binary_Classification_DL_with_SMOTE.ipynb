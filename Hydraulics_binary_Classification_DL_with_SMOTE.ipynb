{
 "cells": [
  {
   "cell_type": "markdown",
   "metadata": {},
   "source": [
    "# Import the Libraries"
   ]
  },
  {
   "cell_type": "code",
   "execution_count": 190,
   "metadata": {},
   "outputs": [],
   "source": [
    "from sklearn.model_selection import train_test_split\n",
    "from sklearn.metrics import roc_curve\n",
    "from sklearn.metrics import roc_auc_score\n",
    "from matplotlib import pyplot as plt\n",
    "import pandas as pd\n",
    "import numpy as np\n",
    "import seaborn as sns\n",
    "from sklearn.model_selection import cross_val_score\n",
    "from sklearn.model_selection import KFold\n",
    "from numpy.random import seed\n",
    "seed(42)\n",
    "import keras\n",
    "from keras.models import Sequential, load_model\n",
    "from keras.callbacks import ModelCheckpoint\n",
    "\n",
    "from keras.layers import Dense, Dropout\n",
    "from keras import metrics\n",
    "from matplotlib import pyplot\n",
    "\n",
    "from sklearn.metrics import precision_recall_curve\n",
    "from sklearn.metrics import f1_score\n",
    "from sklearn.metrics import auc\n",
    "from sklearn.metrics import average_precision_score"
   ]
  },
  {
   "cell_type": "markdown",
   "metadata": {},
   "source": [
    "# Ignore Warnings"
   ]
  },
  {
   "cell_type": "code",
   "execution_count": 191,
   "metadata": {},
   "outputs": [],
   "source": [
    "import warnings\n",
    "warnings.filterwarnings('ignore')"
   ]
  },
  {
   "cell_type": "markdown",
   "metadata": {},
   "source": [
    "# Load the Preprocessed and SMOTE-d Dataset"
   ]
  },
  {
   "cell_type": "code",
   "execution_count": 192,
   "metadata": {},
   "outputs": [
    {
     "data": {
      "text/plain": [
       "(2898, 32)"
      ]
     },
     "execution_count": 192,
     "metadata": {},
     "output_type": "execute_result"
    }
   ],
   "source": [
    "df = pd.read_csv('hydraulics_preprocessed_data_with_smote.csv')\n",
    "df.shape"
   ]
  },
  {
   "cell_type": "code",
   "execution_count": 193,
   "metadata": {},
   "outputs": [
    {
     "data": {
      "text/html": [
       "<div>\n",
       "<style scoped>\n",
       "    .dataframe tbody tr th:only-of-type {\n",
       "        vertical-align: middle;\n",
       "    }\n",
       "\n",
       "    .dataframe tbody tr th {\n",
       "        vertical-align: top;\n",
       "    }\n",
       "\n",
       "    .dataframe thead th {\n",
       "        text-align: right;\n",
       "    }\n",
       "</style>\n",
       "<table border=\"1\" class=\"dataframe\">\n",
       "  <thead>\n",
       "    <tr style=\"text-align: right;\">\n",
       "      <th></th>\n",
       "      <th>0</th>\n",
       "      <th>1</th>\n",
       "      <th>2</th>\n",
       "      <th>3</th>\n",
       "      <th>4</th>\n",
       "      <th>5</th>\n",
       "      <th>6</th>\n",
       "      <th>7</th>\n",
       "      <th>8</th>\n",
       "      <th>9</th>\n",
       "      <th>...</th>\n",
       "      <th>22</th>\n",
       "      <th>23</th>\n",
       "      <th>24</th>\n",
       "      <th>25</th>\n",
       "      <th>26</th>\n",
       "      <th>27</th>\n",
       "      <th>28</th>\n",
       "      <th>29</th>\n",
       "      <th>30</th>\n",
       "      <th>stable_flag</th>\n",
       "    </tr>\n",
       "  </thead>\n",
       "  <tbody>\n",
       "    <tr>\n",
       "      <th>0</th>\n",
       "      <td>1.418554</td>\n",
       "      <td>-0.704943</td>\n",
       "      <td>-0.71144</td>\n",
       "      <td>-0.441726</td>\n",
       "      <td>-0.441726</td>\n",
       "      <td>-0.441726</td>\n",
       "      <td>0.979796</td>\n",
       "      <td>0.897718</td>\n",
       "      <td>-0.535925</td>\n",
       "      <td>-0.535925</td>\n",
       "      <td>...</td>\n",
       "      <td>0.155739</td>\n",
       "      <td>0.425501</td>\n",
       "      <td>1.249042</td>\n",
       "      <td>0.384403</td>\n",
       "      <td>-0.420151</td>\n",
       "      <td>-1.239263</td>\n",
       "      <td>-1.261492</td>\n",
       "      <td>-1.227311</td>\n",
       "      <td>-1.129705</td>\n",
       "      <td>1</td>\n",
       "    </tr>\n",
       "    <tr>\n",
       "      <th>1</th>\n",
       "      <td>1.418554</td>\n",
       "      <td>-0.704943</td>\n",
       "      <td>-0.71144</td>\n",
       "      <td>-0.441726</td>\n",
       "      <td>-0.441726</td>\n",
       "      <td>-0.441726</td>\n",
       "      <td>0.979796</td>\n",
       "      <td>0.897718</td>\n",
       "      <td>-0.535925</td>\n",
       "      <td>-0.535925</td>\n",
       "      <td>...</td>\n",
       "      <td>0.086167</td>\n",
       "      <td>0.425501</td>\n",
       "      <td>1.249042</td>\n",
       "      <td>0.386131</td>\n",
       "      <td>-0.744191</td>\n",
       "      <td>-1.089296</td>\n",
       "      <td>-1.197919</td>\n",
       "      <td>-1.162928</td>\n",
       "      <td>-0.763315</td>\n",
       "      <td>1</td>\n",
       "    </tr>\n",
       "    <tr>\n",
       "      <th>2</th>\n",
       "      <td>1.418554</td>\n",
       "      <td>-0.704943</td>\n",
       "      <td>-0.71144</td>\n",
       "      <td>-0.441726</td>\n",
       "      <td>-0.441726</td>\n",
       "      <td>-0.441726</td>\n",
       "      <td>0.979796</td>\n",
       "      <td>0.897718</td>\n",
       "      <td>-0.535925</td>\n",
       "      <td>-0.535925</td>\n",
       "      <td>...</td>\n",
       "      <td>-0.003283</td>\n",
       "      <td>0.425501</td>\n",
       "      <td>1.249042</td>\n",
       "      <td>0.403990</td>\n",
       "      <td>-0.744191</td>\n",
       "      <td>-0.933080</td>\n",
       "      <td>-1.076183</td>\n",
       "      <td>-1.075744</td>\n",
       "      <td>-0.630082</td>\n",
       "      <td>1</td>\n",
       "    </tr>\n",
       "    <tr>\n",
       "      <th>3</th>\n",
       "      <td>1.418554</td>\n",
       "      <td>-0.704943</td>\n",
       "      <td>-0.71144</td>\n",
       "      <td>-0.441726</td>\n",
       "      <td>-0.441726</td>\n",
       "      <td>-0.441726</td>\n",
       "      <td>0.979796</td>\n",
       "      <td>0.897718</td>\n",
       "      <td>-0.535925</td>\n",
       "      <td>-0.535925</td>\n",
       "      <td>...</td>\n",
       "      <td>-0.070015</td>\n",
       "      <td>0.425501</td>\n",
       "      <td>1.249042</td>\n",
       "      <td>0.413208</td>\n",
       "      <td>-0.744191</td>\n",
       "      <td>-0.804359</td>\n",
       "      <td>-0.949037</td>\n",
       "      <td>-0.980511</td>\n",
       "      <td>-0.505484</td>\n",
       "      <td>1</td>\n",
       "    </tr>\n",
       "    <tr>\n",
       "      <th>4</th>\n",
       "      <td>1.418554</td>\n",
       "      <td>-0.704943</td>\n",
       "      <td>-0.71144</td>\n",
       "      <td>-0.441726</td>\n",
       "      <td>-0.441726</td>\n",
       "      <td>-0.441726</td>\n",
       "      <td>0.979796</td>\n",
       "      <td>0.897718</td>\n",
       "      <td>-0.535925</td>\n",
       "      <td>-0.535925</td>\n",
       "      <td>...</td>\n",
       "      <td>-0.122549</td>\n",
       "      <td>0.420492</td>\n",
       "      <td>1.249042</td>\n",
       "      <td>0.413208</td>\n",
       "      <td>-0.420151</td>\n",
       "      <td>-0.689384</td>\n",
       "      <td>-0.816480</td>\n",
       "      <td>-0.846381</td>\n",
       "      <td>-0.406793</td>\n",
       "      <td>1</td>\n",
       "    </tr>\n",
       "  </tbody>\n",
       "</table>\n",
       "<p>5 rows × 32 columns</p>\n",
       "</div>"
      ],
      "text/plain": [
       "          0         1        2         3         4         5         6  \\\n",
       "0  1.418554 -0.704943 -0.71144 -0.441726 -0.441726 -0.441726  0.979796   \n",
       "1  1.418554 -0.704943 -0.71144 -0.441726 -0.441726 -0.441726  0.979796   \n",
       "2  1.418554 -0.704943 -0.71144 -0.441726 -0.441726 -0.441726  0.979796   \n",
       "3  1.418554 -0.704943 -0.71144 -0.441726 -0.441726 -0.441726  0.979796   \n",
       "4  1.418554 -0.704943 -0.71144 -0.441726 -0.441726 -0.441726  0.979796   \n",
       "\n",
       "          7         8         9     ...             22        23        24  \\\n",
       "0  0.897718 -0.535925 -0.535925     ...       0.155739  0.425501  1.249042   \n",
       "1  0.897718 -0.535925 -0.535925     ...       0.086167  0.425501  1.249042   \n",
       "2  0.897718 -0.535925 -0.535925     ...      -0.003283  0.425501  1.249042   \n",
       "3  0.897718 -0.535925 -0.535925     ...      -0.070015  0.425501  1.249042   \n",
       "4  0.897718 -0.535925 -0.535925     ...      -0.122549  0.420492  1.249042   \n",
       "\n",
       "         25        26        27        28        29        30  stable_flag  \n",
       "0  0.384403 -0.420151 -1.239263 -1.261492 -1.227311 -1.129705            1  \n",
       "1  0.386131 -0.744191 -1.089296 -1.197919 -1.162928 -0.763315            1  \n",
       "2  0.403990 -0.744191 -0.933080 -1.076183 -1.075744 -0.630082            1  \n",
       "3  0.413208 -0.744191 -0.804359 -0.949037 -0.980511 -0.505484            1  \n",
       "4  0.413208 -0.420151 -0.689384 -0.816480 -0.846381 -0.406793            1  \n",
       "\n",
       "[5 rows x 32 columns]"
      ]
     },
     "execution_count": 193,
     "metadata": {},
     "output_type": "execute_result"
    }
   ],
   "source": [
    "df.head()"
   ]
  },
  {
   "cell_type": "markdown",
   "metadata": {},
   "source": [
    "# Split the dataset"
   ]
  },
  {
   "cell_type": "code",
   "execution_count": 194,
   "metadata": {},
   "outputs": [
    {
     "name": "stdout",
     "output_type": "stream",
     "text": [
      "(2898, 31)\n",
      "(2898,)\n"
     ]
    }
   ],
   "source": [
    "X = df.copy(deep=True)\n",
    "del X['stable_flag']\n",
    "y = df['stable_flag']\n",
    "print(X.shape)\n",
    "print(y.shape)"
   ]
  },
  {
   "cell_type": "code",
   "execution_count": 195,
   "metadata": {},
   "outputs": [],
   "source": [
    "X_train, X_test, y_train, y_test = train_test_split(X, y, test_size=0.2, random_state=1234)"
   ]
  },
  {
   "cell_type": "code",
   "execution_count": 196,
   "metadata": {},
   "outputs": [
    {
     "data": {
      "text/plain": [
       "(2318, 31)"
      ]
     },
     "execution_count": 196,
     "metadata": {},
     "output_type": "execute_result"
    }
   ],
   "source": [
    "X_train.shape"
   ]
  },
  {
   "cell_type": "markdown",
   "metadata": {},
   "source": [
    "# Design the neural network"
   ]
  },
  {
   "cell_type": "code",
   "execution_count": 197,
   "metadata": {},
   "outputs": [],
   "source": [
    "def baseline_model():\n",
    "    model = Sequential()\n",
    "    model.add(Dense(1024, input_dim=31, kernel_initializer='normal', activation='relu'))\n",
    "    model.add(Dropout(0.3))\n",
    "#     model.add(Dense(1024, kernel_initializer='normal', activation='relu'))\n",
    "#     model.add(Dropout(0.3))\n",
    "    model.add(Dense(512, kernel_initializer='normal', activation='relu'))\n",
    "    model.add(Dropout(0.2))\n",
    "    model.add(Dense(256, kernel_initializer='normal', activation='relu'))\n",
    "    model.add(Dropout(0.1))\n",
    "    model.add(Dense(128, kernel_initializer='normal', activation='relu'))\n",
    "    model.add(Dropout(0.05))\n",
    "#     model.add(Dense(64, kernel_initializer='normal', activation='relu'))\n",
    "#     model.add(Dropout(0.025))\n",
    "    model.add(Dense(1, kernel_initializer='normal', activation='sigmoid'))\n",
    "    model.compile(loss='binary_crossentropy', optimizer='adam', metrics=[ 'accuracy'])\n",
    "    return model"
   ]
  },
  {
   "cell_type": "code",
   "execution_count": 198,
   "metadata": {},
   "outputs": [
    {
     "name": "stdout",
     "output_type": "stream",
     "text": [
      "Epoch 1/70\n",
      "2318/2318 [==============================] - 1s 529us/step - loss: 0.3168 - accuracy: 0.8956\n",
      "Epoch 2/70\n",
      "2318/2318 [==============================] - 1s 355us/step - loss: 0.1771 - accuracy: 0.9353\n",
      "Epoch 3/70\n",
      "2318/2318 [==============================] - 1s 351us/step - loss: 0.1603 - accuracy: 0.9383\n",
      "Epoch 4/70\n",
      "2318/2318 [==============================] - 1s 328us/step - loss: 0.1528 - accuracy: 0.9400\n",
      "Epoch 5/70\n",
      "2318/2318 [==============================] - 1s 344us/step - loss: 0.1641 - accuracy: 0.9370\n",
      "Epoch 6/70\n",
      "2318/2318 [==============================] - 1s 329us/step - loss: 0.1426 - accuracy: 0.9439\n",
      "Epoch 7/70\n",
      "2318/2318 [==============================] - 1s 335us/step - loss: 0.1465 - accuracy: 0.9396\n",
      "Epoch 8/70\n",
      "2318/2318 [==============================] - 1s 317us/step - loss: 0.1524 - accuracy: 0.9379\n",
      "Epoch 9/70\n",
      "2318/2318 [==============================] - 1s 331us/step - loss: 0.1427 - accuracy: 0.9418\n",
      "Epoch 10/70\n",
      "2318/2318 [==============================] - 1s 313us/step - loss: 0.1345 - accuracy: 0.9461\n",
      "Epoch 11/70\n",
      "2318/2318 [==============================] - 1s 311us/step - loss: 0.1346 - accuracy: 0.9465\n",
      "Epoch 12/70\n",
      "2318/2318 [==============================] - 1s 327us/step - loss: 0.1294 - accuracy: 0.9465\n",
      "Epoch 13/70\n",
      "2318/2318 [==============================] - 1s 292us/step - loss: 0.1251 - accuracy: 0.9474\n",
      "Epoch 14/70\n",
      "2318/2318 [==============================] - 1s 293us/step - loss: 0.1289 - accuracy: 0.9448\n",
      "Epoch 15/70\n",
      "2318/2318 [==============================] - 1s 315us/step - loss: 0.1215 - accuracy: 0.9478\n",
      "Epoch 16/70\n",
      "2318/2318 [==============================] - 1s 306us/step - loss: 0.1273 - accuracy: 0.9478\n",
      "Epoch 17/70\n",
      "2318/2318 [==============================] - 1s 306us/step - loss: 0.1213 - accuracy: 0.9500\n",
      "Epoch 18/70\n",
      "2318/2318 [==============================] - 1s 317us/step - loss: 0.1316 - accuracy: 0.9469\n",
      "Epoch 19/70\n",
      "2318/2318 [==============================] - 1s 315us/step - loss: 0.1200 - accuracy: 0.9495\n",
      "Epoch 20/70\n",
      "2318/2318 [==============================] - 1s 341us/step - loss: 0.1159 - accuracy: 0.9504\n",
      "Epoch 21/70\n",
      "2318/2318 [==============================] - 1s 310us/step - loss: 0.1178 - accuracy: 0.9538\n",
      "Epoch 22/70\n",
      "2318/2318 [==============================] - 1s 322us/step - loss: 0.1215 - accuracy: 0.9513\n",
      "Epoch 23/70\n",
      "2318/2318 [==============================] - 1s 297us/step - loss: 0.1169 - accuracy: 0.9525\n",
      "Epoch 24/70\n",
      "2318/2318 [==============================] - 1s 309us/step - loss: 0.1032 - accuracy: 0.9573\n",
      "Epoch 25/70\n",
      "2318/2318 [==============================] - 1s 343us/step - loss: 0.1044 - accuracy: 0.9551\n",
      "Epoch 26/70\n",
      "2318/2318 [==============================] - 1s 325us/step - loss: 0.1208 - accuracy: 0.9482\n",
      "Epoch 27/70\n",
      "2318/2318 [==============================] - 1s 325us/step - loss: 0.1161 - accuracy: 0.9525\n",
      "Epoch 28/70\n",
      "2318/2318 [==============================] - 1s 307us/step - loss: 0.1052 - accuracy: 0.9573\n",
      "Epoch 29/70\n",
      "2318/2318 [==============================] - 1s 312us/step - loss: 0.1073 - accuracy: 0.9556\n",
      "Epoch 30/70\n",
      "2318/2318 [==============================] - 1s 307us/step - loss: 0.1297 - accuracy: 0.9491\n",
      "Epoch 31/70\n",
      "2318/2318 [==============================] - 1s 321us/step - loss: 0.1120 - accuracy: 0.9551\n",
      "Epoch 32/70\n",
      "2318/2318 [==============================] - 1s 312us/step - loss: 0.1021 - accuracy: 0.9543\n",
      "Epoch 33/70\n",
      "2318/2318 [==============================] - 1s 308us/step - loss: 0.1033 - accuracy: 0.9577\n",
      "Epoch 34/70\n",
      "2318/2318 [==============================] - 1s 324us/step - loss: 0.1011 - accuracy: 0.9564\n",
      "Epoch 35/70\n",
      "2318/2318 [==============================] - 1s 337us/step - loss: 0.1016 - accuracy: 0.9560\n",
      "Epoch 36/70\n",
      "2318/2318 [==============================] - 1s 317us/step - loss: 0.1092 - accuracy: 0.9564\n",
      "Epoch 37/70\n",
      "2318/2318 [==============================] - 1s 325us/step - loss: 0.1145 - accuracy: 0.9504\n",
      "Epoch 38/70\n",
      "2318/2318 [==============================] - 1s 331us/step - loss: 0.1035 - accuracy: 0.9573\n",
      "Epoch 39/70\n",
      "2318/2318 [==============================] - 1s 330us/step - loss: 0.1013 - accuracy: 0.9582\n",
      "Epoch 40/70\n",
      "2318/2318 [==============================] - 1s 327us/step - loss: 0.1056 - accuracy: 0.9517\n",
      "Epoch 41/70\n",
      "2318/2318 [==============================] - 1s 309us/step - loss: 0.1039 - accuracy: 0.9573\n",
      "Epoch 42/70\n",
      "2318/2318 [==============================] - 1s 311us/step - loss: 0.1239 - accuracy: 0.9513\n",
      "Epoch 43/70\n",
      "2318/2318 [==============================] - 1s 301us/step - loss: 0.1043 - accuracy: 0.9582\n",
      "Epoch 44/70\n",
      "2318/2318 [==============================] - 1s 307us/step - loss: 0.1000 - accuracy: 0.9586\n",
      "Epoch 45/70\n",
      "2318/2318 [==============================] - 1s 334us/step - loss: 0.1009 - accuracy: 0.9577\n",
      "Epoch 46/70\n",
      "2318/2318 [==============================] - 1s 308us/step - loss: 0.1020 - accuracy: 0.9564\n",
      "Epoch 47/70\n",
      "2318/2318 [==============================] - 1s 324us/step - loss: 0.1017 - accuracy: 0.9577\n",
      "Epoch 48/70\n",
      "2318/2318 [==============================] - 1s 322us/step - loss: 0.0902 - accuracy: 0.9603\n",
      "Epoch 49/70\n",
      "2318/2318 [==============================] - 1s 338us/step - loss: 0.0923 - accuracy: 0.9607\n",
      "Epoch 50/70\n",
      "2318/2318 [==============================] - 1s 344us/step - loss: 0.1024 - accuracy: 0.9564\n",
      "Epoch 51/70\n",
      "2318/2318 [==============================] - 1s 333us/step - loss: 0.1057 - accuracy: 0.9569\n",
      "Epoch 52/70\n",
      "2318/2318 [==============================] - 1s 340us/step - loss: 0.0953 - accuracy: 0.9590\n",
      "Epoch 53/70\n",
      "2318/2318 [==============================] - 1s 317us/step - loss: 0.0921 - accuracy: 0.9607\n",
      "Epoch 54/70\n",
      "2318/2318 [==============================] - 1s 332us/step - loss: 0.0926 - accuracy: 0.9599\n",
      "Epoch 55/70\n",
      "2318/2318 [==============================] - 1s 346us/step - loss: 0.1074 - accuracy: 0.9551\n",
      "Epoch 56/70\n",
      "2318/2318 [==============================] - 1s 312us/step - loss: 0.0933 - accuracy: 0.9603\n",
      "Epoch 57/70\n",
      "2318/2318 [==============================] - 1s 326us/step - loss: 0.1188 - accuracy: 0.9517\n",
      "Epoch 58/70\n",
      "2318/2318 [==============================] - 1s 309us/step - loss: 0.0973 - accuracy: 0.9590\n",
      "Epoch 59/70\n",
      "2318/2318 [==============================] - 1s 333us/step - loss: 0.0969 - accuracy: 0.9586\n",
      "Epoch 60/70\n",
      "2318/2318 [==============================] - 1s 296us/step - loss: 0.1050 - accuracy: 0.9560\n",
      "Epoch 61/70\n",
      "2318/2318 [==============================] - 1s 315us/step - loss: 0.0973 - accuracy: 0.9582\n",
      "Epoch 62/70\n",
      "2318/2318 [==============================] - 1s 294us/step - loss: 0.0921 - accuracy: 0.9603\n",
      "Epoch 63/70\n",
      "2318/2318 [==============================] - 1s 310us/step - loss: 0.0899 - accuracy: 0.9612\n",
      "Epoch 64/70\n",
      "2318/2318 [==============================] - 1s 327us/step - loss: 0.1006 - accuracy: 0.9577\n",
      "Epoch 65/70\n",
      "2318/2318 [==============================] - 1s 305us/step - loss: 0.0965 - accuracy: 0.9582\n",
      "Epoch 66/70\n",
      "2318/2318 [==============================] - 1s 316us/step - loss: 0.0951 - accuracy: 0.9590\n",
      "Epoch 67/70\n",
      "2318/2318 [==============================] - 1s 303us/step - loss: 0.0910 - accuracy: 0.9603\n",
      "Epoch 68/70\n",
      "2318/2318 [==============================] - 1s 299us/step - loss: 0.0885 - accuracy: 0.9629\n",
      "Epoch 69/70\n",
      "2318/2318 [==============================] - 1s 311us/step - loss: 0.0919 - accuracy: 0.9594\n",
      "Epoch 70/70\n",
      "2318/2318 [==============================] - 1s 303us/step - loss: 0.0882 - accuracy: 0.9629\n"
     ]
    },
    {
     "data": {
      "text/plain": [
       "<keras.callbacks.callbacks.History at 0x1d6f3b1ff60>"
      ]
     },
     "execution_count": 198,
     "metadata": {},
     "output_type": "execute_result"
    }
   ],
   "source": [
    "from keras.wrappers.scikit_learn import KerasClassifier\n",
    "# from keras.callbacks import EarlyStopping\n",
    "# simple early stopping\n",
    "# es = EarlyStopping(monitor='accuracy', mode='max', verbose=0, patience=20)\n",
    "# define the checkpoint\n",
    "# filepath = \"model.h5\"\n",
    "# checkpoint = ModelCheckpoint(filepath, monitor='accuracy', verbose=0, save_best_only=True, mode='max')\n",
    "estimator = KerasClassifier(build_fn=baseline_model, epochs=70, batch_size=64, verbose=1, callbacks=[es, checkpoint])\n",
    "\n",
    "estimator.fit(X_train, y_train)\n",
    "# accuracies = cross_val_score(estimator = estimator, X = X_train, y = y_train, cv = 2, n_jobs=1)\n",
    "# accuracies"
   ]
  },
  {
   "cell_type": "code",
   "execution_count": 199,
   "metadata": {},
   "outputs": [
    {
     "name": "stdout",
     "output_type": "stream",
     "text": [
      "580/580 [==============================] - 0s 172us/step\n",
      "580/580 [==============================] - 0s 69us/step\n",
      "f1=0.953 auc=0.993 ap=0.993\n"
     ]
    },
    {
     "data": {
      "image/png": "[encoded data removed]",
      "text/plain": [
       "<Figure size 432x288 with 1 Axes>"
      ]
     },
     "metadata": {
      "needs_background": "light"
     },
     "output_type": "display_data"
    }
   ],
   "source": [
    "# estimator = load_model(\"model.h5\")\n",
    "\n",
    "# predict probabilities\n",
    "est_probs = estimator.predict_proba(X_test)\n",
    "\n",
    "# est_probs = (est_probs > 0.5)\n",
    "# keep probabilities for the positive outcome only\n",
    "est_probs = est_probs[:, 1]\n",
    "# print(est_probs)\n",
    "# predict class values\n",
    "yhat = estimator.predict(X_test)\n",
    "# yhat = (yhat > 0.5)\n",
    "# calculate precision-recall curve\n",
    "precision, recall, thresholds = precision_recall_curve(y_test, est_probs)\n",
    "# calculate F1 score\n",
    "f1 = f1_score(y_test, yhat)\n",
    "# calculate precision-recall AUC\n",
    "auc_F = auc(recall, precision)\n",
    "# calculate average precision score\n",
    "ap = average_precision_score(y_test, est_probs)\n",
    "print('f1=%.3f auc=%.3f ap=%.3f' % (f1, auc_F, ap))\n",
    "# plot no skill\n",
    "pyplot.plot([0, 1], [0.5, 0.5], linestyle='--')\n",
    "# plot the precision-recall curve for the model\n",
    "pyplot.plot(recall, precision, marker='.')\n",
    "# show the plot\n",
    "pyplot.show()"
   ]
  },
  {
   "cell_type": "code",
   "execution_count": 200,
   "metadata": {},
   "outputs": [
    {
     "data": {
      "image/png": "[encoded data removed]",
      "text/plain": [
       "<Figure size 432x288 with 1 Axes>"
      ]
     },
     "metadata": {
      "needs_background": "light"
     },
     "output_type": "display_data"
    }
   ],
   "source": [
    "import sklearn.metrics as metrics\n",
    "\n",
    "fpr, tpr, threshold = metrics.roc_curve(y_test, est_probs)\n",
    "roc_auc = metrics.auc(fpr, tpr)\n",
    "\n",
    "# method I: plt\n",
    "import matplotlib.pyplot as plt\n",
    "plt.title('Receiver Operating Characteristic')\n",
    "plt.plot(fpr, tpr, 'b', label = 'AUC = %0.2f' % roc_auc)\n",
    "plt.legend(loc = 'lower right')\n",
    "plt.plot([0, 1], [0, 1],'r--')\n",
    "plt.xlim([0, 1])\n",
    "plt.ylim([0, 1])\n",
    "plt.ylabel('True Positive Rate')\n",
    "plt.xlabel('False Positive Rate')\n",
    "plt.show()"
   ]
  },
  {
   "cell_type": "code",
   "execution_count": 201,
   "metadata": {},
   "outputs": [
    {
     "name": "stdout",
     "output_type": "stream",
     "text": [
      "Precision Score : 0.9543793665718469\n",
      "Recall Score : 0.9568151631546828\n",
      "F1 Score : 0.9550355421974142\n",
      "Accuracy Score : 0.9551724137931035\n",
      "Classification Report :\n",
      "               precision    recall  f1-score   support\n",
      "\n",
      "           0       0.98      0.94      0.96       313\n",
      "           1       0.93      0.98      0.95       267\n",
      "\n",
      "    accuracy                           0.96       580\n",
      "   macro avg       0.95      0.96      0.96       580\n",
      "weighted avg       0.96      0.96      0.96       580\n",
      "\n",
      "Confusion Matrix :\n",
      " [[293  20]\n",
      " [  6 261]]\n"
     ]
    }
   ],
   "source": [
    "from sklearn.metrics import accuracy_score, f1_score, precision_score, recall_score, classification_report, confusion_matrix\n",
    "\n",
    "print(\"Precision Score :\", precision_score(y_test, yhat, average=\"macro\"))\n",
    "print(\"Recall Score :\", recall_score(y_test, yhat, average=\"macro\"))\n",
    "print(\"F1 Score :\", f1_score(y_test, yhat, average=\"macro\"))\n",
    "print(\"Accuracy Score :\", accuracy_score(y_test, yhat))\n",
    "print(\"Classification Report :\\n\", classification_report(y_test, yhat))\n",
    "print(\"Confusion Matrix :\\n\", confusion_matrix(y_test, yhat))"
   ]
  },
  {
   "cell_type": "code",
   "execution_count": null,
   "metadata": {},
   "outputs": [],
   "source": []
  }
 ],
 "metadata": {
  "kernelspec": {
   "display_name": "Python 3",
   "language": "python",
   "name": "python3"
  },
  "language_info": {
   "codemirror_mode": {
    "name": "ipython",
    "version": 3
   },
   "file_extension": ".py",
   "mimetype": "text/x-python",
   "name": "python",
   "nbconvert_exporter": "python",
   "pygments_lexer": "ipython3",
   "version": "3.7.1"
  }
 },
 "nbformat": 4,
 "nbformat_minor": 2
}
